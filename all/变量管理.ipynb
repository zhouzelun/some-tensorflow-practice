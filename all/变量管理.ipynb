{
 "cells": [
  {
   "cell_type": "code",
   "execution_count": 1,
   "metadata": {},
   "outputs": [
    {
     "name": "stdout",
     "output_type": "stream",
     "text": [
      "False\n",
      "True\n",
      "True\n",
      "False\n"
     ]
    }
   ],
   "source": [
    "import tensorflow as tf\n",
    "# tensorflow可以根据name值回去变量，在获取参数时，只有在相同变量空间，以及两者的reuse都为True时，才可以被获取\n",
    "with tf.variable_scope(\"foo\"):\n",
    "    v = tf.get_variable(name = \"v\",shape = [1],initializer = tf.constant_initializer(1.0))\n",
    "    \n",
    "with tf.variable_scope(\"foo\",reuse=True):\n",
    "    v1 = tf.get_variable(name = \"v\",shape = [1])\n",
    "#在嵌套变量空间时,命名空间的reuse会获取父级的值\n",
    "with tf.variable_scope(\"root\"):\n",
    "    print(tf.get_variable_scope().reuse)\n",
    "    with tf.variable_scope(\"foo\",reuse=True):\n",
    "        print(tf.get_variable_scope().reuse)\n",
    "        with tf.variable_scope(\"bat\"):\n",
    "            print(tf.get_variable_scope().reuse)\n",
    "    print(tf.get_variable_scope().reuse)\n",
    "#通过variable_scope管理变量\n",
    "v1=tf.get_variable(name=\"v\",shape=[1])\n",
    "print(v1.name)"
   ]
  },
  {
   "cell_type": "markdown",
   "metadata": {},
   "source": []
  }
 ],
 "metadata": {
  "kernelspec": {
   "display_name": "Python 3",
   "language": "python",
   "name": "python3"
  },
  "language_info": {
   "codemirror_mode": {
    "name": "ipython",
    "version": 3
   },
   "file_extension": ".py",
   "mimetype": "text/x-python",
   "name": "python",
   "nbconvert_exporter": "python",
   "pygments_lexer": "ipython3",
   "version": "3.6.3"
  }
 },
 "nbformat": 4,
 "nbformat_minor": 2
}
