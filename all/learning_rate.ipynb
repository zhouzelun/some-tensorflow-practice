{
 "cells": [
  {
   "cell_type": "code",
   "execution_count": 1,
   "metadata": {
    "collapsed": true
   },
   "outputs": [],
   "source": [
    "import numpy as np"
   ]
  },
  {
   "cell_type": "markdown",
   "metadata": {
    "collapsed": true
   },
   "source": [
    "# 学习率的设置，为了避免学习率设置过小训练时间久以及在学习率设置过大模型在最优解两侧来回跳动的情况，可以使用学习率逐步减小的方法。exponential_decay实现了以下代码的功能"
   ]
  },
  {
   "cell_type": "markdown",
   "metadata": {},
   "source": [
    "decayed_learning_rate = \\\n",
    "                        learning_rate * decay_rate ^ (global_step / decay_steps)\n",
    "#其中learning_rate是事先设定的初始学习率；decay_rate为衰减系数（小于1的数）；global_step当前运行步数，decay_steps为衰减速度"
   ]
  },
  {
   "cell_type": "code",
   "execution_count": 2,
   "metadata": {},
   "outputs": [
    {
     "ename": "SyntaxError",
     "evalue": "invalid syntax (<ipython-input-2-c5205512d9b9>, line 6)",
     "output_type": "error",
     "traceback": [
      "\u001b[0;36m  File \u001b[0;32m\"<ipython-input-2-c5205512d9b9>\"\u001b[0;36m, line \u001b[0;32m6\u001b[0m\n\u001b[0;31m    learning_step = tf.train.GradientDescentOptimizer(learning_rate)                    .minimize(..损失函数..,global_step=global_step)\u001b[0m\n\u001b[0m                                                                                                  ^\u001b[0m\n\u001b[0;31mSyntaxError\u001b[0m\u001b[0;31m:\u001b[0m invalid syntax\n"
     ]
    }
   ],
   "source": [
    "global_step = tf.Variable(0)\n",
    "#通过exponential_decay函数生成学习率\n",
    "learning_rate = tf.train.exponential_decay(0.1,global_step,100,0.96,staircase=True)\n",
    "#使用指数衰减的学习率，在minimize函数中传入global_step将自动更新,即会自动加一\n",
    "#global_step参数，从而使得学习率也得到相应更新\n",
    "learning_step = tf.train.GradientDescentOptimizer(learning_rate)\\\n",
    "                    .minimize(..损失函数..,global_step=global_step)"
   ]
  },
  {
   "cell_type": "code",
   "execution_count": null,
   "metadata": {
    "collapsed": true
   },
   "outputs": [],
   "source": []
  }
 ],
 "metadata": {
  "kernelspec": {
   "display_name": "Python 3",
   "language": "python",
   "name": "python3"
  },
  "language_info": {
   "codemirror_mode": {
    "name": "ipython",
    "version": 3
   },
   "file_extension": ".py",
   "mimetype": "text/x-python",
   "name": "python",
   "nbconvert_exporter": "python",
   "pygments_lexer": "ipython3",
   "version": "3.6.3"
  }
 },
 "nbformat": 4,
 "nbformat_minor": 2
}
